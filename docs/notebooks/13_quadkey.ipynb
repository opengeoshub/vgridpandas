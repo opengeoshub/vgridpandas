{
 "cells": [
  {
   "cell_type": "markdown",
   "id": "0",
   "metadata": {},
   "source": [
    "# QuadkeyPandas key features"
   ]
  },
  {
   "cell_type": "markdown",
   "id": "1",
   "metadata": {},
   "source": [
    "## Install vgridpandas"
   ]
  },
  {
   "cell_type": "code",
   "execution_count": 1,
   "id": "2",
   "metadata": {},
   "outputs": [],
   "source": [
    "# %pip install vgridpandas"
   ]
  },
  {
   "cell_type": "markdown",
   "id": "dc855c53",
   "metadata": {},
   "source": [
    "### Latlong to Quadkey"
   ]
  },
  {
   "cell_type": "code",
   "execution_count": 2,
   "id": "4",
   "metadata": {},
   "outputs": [
    {
     "data": {
      "text/html": [
       "<div>\n",
       "<style scoped>\n",
       "    .dataframe tbody tr th:only-of-type {\n",
       "        vertical-align: middle;\n",
       "    }\n",
       "\n",
       "    .dataframe tbody tr th {\n",
       "        vertical-align: top;\n",
       "    }\n",
       "\n",
       "    .dataframe thead th {\n",
       "        text-align: right;\n",
       "    }\n",
       "</style>\n",
       "<table border=\"1\" class=\"dataframe\">\n",
       "  <thead>\n",
       "    <tr style=\"text-align: right;\">\n",
       "      <th></th>\n",
       "      <th>lat</th>\n",
       "      <th>lon</th>\n",
       "    </tr>\n",
       "    <tr>\n",
       "      <th>quadkey_10</th>\n",
       "      <th></th>\n",
       "      <th></th>\n",
       "    </tr>\n",
       "  </thead>\n",
       "  <tbody>\n",
       "    <tr>\n",
       "      <th>1322301113</th>\n",
       "      <td>10.775300</td>\n",
       "      <td>106.706480</td>\n",
       "    </tr>\n",
       "    <tr>\n",
       "      <th>1322310013</th>\n",
       "      <td>10.787317</td>\n",
       "      <td>107.996264</td>\n",
       "    </tr>\n",
       "  </tbody>\n",
       "</table>\n",
       "</div>"
      ],
      "text/plain": [
       "                  lat         lon\n",
       "quadkey_10                       \n",
       "1322301113  10.775300  106.706480\n",
       "1322310013  10.787317  107.996264"
      ]
     },
     "execution_count": 2,
     "metadata": {},
     "output_type": "execute_result"
    }
   ],
   "source": [
    "import pandas as pd\n",
    "from vgridpandas import quadkeypandas\n",
    "df = pd.DataFrame({'lat': [10.775299665325505, 10.78731693], 'lon':[106.70647975040788,107.99626405]})\n",
    "resolution = 10\n",
    "df = df.quadkey.latlon2quadkey(resolution)\n",
    "df"
   ]
  },
  {
   "cell_type": "markdown",
   "id": "dc45a732",
   "metadata": {},
   "source": [
    "### Quadkey to geo boundary"
   ]
  },
  {
   "cell_type": "code",
   "execution_count": 3,
   "id": "5fbf48a2",
   "metadata": {},
   "outputs": [],
   "source": [
    "df = df.quadkey.quadkey2geo()\n",
    "df\n",
    "df.to_file(f\"quadkey_{resolution}.geojson\", driver=\"GeoJSON\")"
   ]
  }
 ],
 "metadata": {
  "kernelspec": {
   "display_name": ".venv",
   "language": "python",
   "name": "python3"
  },
  "language_info": {
   "codemirror_mode": {
    "name": "ipython",
    "version": 3
   },
   "file_extension": ".py",
   "mimetype": "text/x-python",
   "name": "python",
   "nbconvert_exporter": "python",
   "pygments_lexer": "ipython3",
   "version": "3.12.11"
  }
 },
 "nbformat": 4,
 "nbformat_minor": 5
}
