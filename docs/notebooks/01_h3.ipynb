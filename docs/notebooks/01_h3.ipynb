{
 "cells": [
  {
   "cell_type": "markdown",
   "id": "0",
   "metadata": {},
   "source": [
    "# H3Pandas key features"
   ]
  },
  {
   "cell_type": "markdown",
   "id": "1",
   "metadata": {},
   "source": [
    "## Install vgridpandas"
   ]
  },
  {
   "cell_type": "code",
   "execution_count": null,
   "id": "2",
   "metadata": {},
   "outputs": [],
   "source": [
    "# %pip install vgridpandas"
   ]
  },
  {
   "cell_type": "markdown",
   "id": "3",
   "metadata": {},
   "source": [
    "## H3"
   ]
  },
  {
   "cell_type": "markdown",
   "id": "dc855c53",
   "metadata": {},
   "source": [
    "### Latlong to H3"
   ]
  },
  {
   "cell_type": "code",
   "execution_count": null,
   "id": "4",
   "metadata": {},
   "outputs": [],
   "source": [
    "import pandas as pd\n",
    "from vgridpandas import h3pandas\n",
    "# df = pd.DataFrame({'lat': [14.6657293, -187.5088058], 'lon': [14, 15]})\n",
    "df = pd.read_csv('https://github.com/uber-web/kepler.gl-data/raw/master/nyctrips/data.csv')\n",
    "df = df.rename({'pickup_longitude': 'lon', 'pickup_latitude': 'lat'}, axis=1)[['lon', 'lat', 'passenger_count']]\n",
    "df = df.head(100)\n",
    "resolution = 8\n",
    "df = df.h3.latlon2h3(resolution)\n",
    "df"
   ]
  },
  {
   "cell_type": "markdown",
   "id": "dc45a732",
   "metadata": {},
   "source": [
    "### H3 to geo boundary"
   ]
  },
  {
   "cell_type": "code",
   "execution_count": null,
   "id": "5fbf48a2",
   "metadata": {},
   "outputs": [],
   "source": [
    "df = df.h3.h32geo()\n",
    "df\n",
    "# df.to_file(f\"h3_{resolution}.geojson\", driver=\"GeoJSON\")"
   ]
  },
  {
   "cell_type": "markdown",
   "id": "cff7253d",
   "metadata": {},
   "source": [
    "### H3 polyfill"
   ]
  },
  {
   "cell_type": "code",
   "execution_count": null,
   "id": "82d25d13",
   "metadata": {},
   "outputs": [],
   "source": [
    "# resolution = 9\n",
    "# df = df.h3.polyfill(resolution, explode = True)\n",
    "# df\n",
    "# # df.to_file(f\"h3_{resolution}.geojson\", driver=\"GeoJSON\")\n",
    "from vgridpandas import h3pandas\n",
    "import geopandas as gpd\n",
    "from shapely.geometry import box, Polygon\n",
    "gdf = gpd.GeoDataFrame(geometry=[box(0, 0, 1, 1)])\n",
    "gdf = gdf.h3.polyfill(4, explode = True)\n",
    "gdf\n"
   ]
  },
  {
   "cell_type": "markdown",
   "id": "6855a1bb",
   "metadata": {},
   "source": [
    "### H3 point binning"
   ]
  },
  {
   "cell_type": "code",
   "execution_count": 1,
   "id": "d487526d",
   "metadata": {},
   "outputs": [
    {
     "data": {
      "text/html": [
       "<div>\n",
       "<style scoped>\n",
       "    .dataframe tbody tr th:only-of-type {\n",
       "        vertical-align: middle;\n",
       "    }\n",
       "\n",
       "    .dataframe tbody tr th {\n",
       "        vertical-align: top;\n",
       "    }\n",
       "\n",
       "    .dataframe thead th {\n",
       "        text-align: right;\n",
       "    }\n",
       "</style>\n",
       "<table border=\"1\" class=\"dataframe\">\n",
       "  <thead>\n",
       "    <tr style=\"text-align: right;\">\n",
       "      <th></th>\n",
       "      <th>id</th>\n",
       "      <th>geometry</th>\n",
       "    </tr>\n",
       "    <tr>\n",
       "      <th>h3_08</th>\n",
       "      <th></th>\n",
       "      <th></th>\n",
       "    </tr>\n",
       "  </thead>\n",
       "  <tbody>\n",
       "    <tr>\n",
       "      <th>8865b56459fffff</th>\n",
       "      <td>2</td>\n",
       "      <td>POLYGON ((106.67318 10.78315, 106.67374 10.788...</td>\n",
       "    </tr>\n",
       "    <tr>\n",
       "      <th>8865b56631fffff</th>\n",
       "      <td>1</td>\n",
       "      <td>POLYGON ((106.68574 10.77397, 106.6863 10.7791...</td>\n",
       "    </tr>\n",
       "    <tr>\n",
       "      <th>8865b56635fffff</th>\n",
       "      <td>1</td>\n",
       "      <td>POLYGON ((106.69104 10.7812, 106.69159 10.7863...</td>\n",
       "    </tr>\n",
       "    <tr>\n",
       "      <th>8865b56637fffff</th>\n",
       "      <td>7</td>\n",
       "      <td>POLYGON ((106.68211 10.78218, 106.68266 10.787...</td>\n",
       "    </tr>\n",
       "    <tr>\n",
       "      <th>8865b56639fffff</th>\n",
       "      <td>2</td>\n",
       "      <td>POLYGON ((106.68938 10.76577, 106.68993 10.770...</td>\n",
       "    </tr>\n",
       "    <tr>\n",
       "      <th>8865b5663bfffff</th>\n",
       "      <td>2</td>\n",
       "      <td>POLYGON ((106.68045 10.76674, 106.681 10.77189...</td>\n",
       "    </tr>\n",
       "  </tbody>\n",
       "</table>\n",
       "</div>"
      ],
      "text/plain": [
       "                 id                                           geometry\n",
       "h3_08                                                                 \n",
       "8865b56459fffff   2  POLYGON ((106.67318 10.78315, 106.67374 10.788...\n",
       "8865b56631fffff   1  POLYGON ((106.68574 10.77397, 106.6863 10.7791...\n",
       "8865b56635fffff   1  POLYGON ((106.69104 10.7812, 106.69159 10.7863...\n",
       "8865b56637fffff   7  POLYGON ((106.68211 10.78218, 106.68266 10.787...\n",
       "8865b56639fffff   2  POLYGON ((106.68938 10.76577, 106.68993 10.770...\n",
       "8865b5663bfffff   2  POLYGON ((106.68045 10.76674, 106.681 10.77189..."
      ]
     },
     "execution_count": 1,
     "metadata": {},
     "output_type": "execute_result"
    }
   ],
   "source": [
    "import pandas as pd\n",
    "from vgridpandas import h3pandas\n",
    "\n",
    "df = pd.read_csv('https://raw.githubusercontent.com/opengeoshub/vopendata/refs/heads/main/csv/point.csv')\n",
    "df\n",
    "resolution = 8\n",
    "df = df.h3.geo2h3_aggregate(resolution, return_geometry=True)\n",
    "df\n"
   ]
  }
 ],
 "metadata": {
  "kernelspec": {
   "display_name": ".venv",
   "language": "python",
   "name": "python3"
  },
  "language_info": {
   "codemirror_mode": {
    "name": "ipython",
    "version": 3
   },
   "file_extension": ".py",
   "mimetype": "text/x-python",
   "name": "python",
   "nbconvert_exporter": "python",
   "pygments_lexer": "ipython3",
   "version": "3.12.11"
  }
 },
 "nbformat": 4,
 "nbformat_minor": 5
}
